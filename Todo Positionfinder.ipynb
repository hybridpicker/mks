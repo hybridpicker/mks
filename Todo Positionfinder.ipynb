{
 "cells": [
  {
   "cell_type": "code",
   "execution_count": 4,
   "metadata": {},
   "outputs": [],
   "source": [
    "pos = {\n",
    "\t'1': {\n",
    "\t\t'eString': [{\n",
    "\t\t\t'tones': ['gb2', 'g2', 'a2']\n",
    "\t\t}, {\n",
    "\t\t\t'tensions': ['R', 'b9', 'b3']\n",
    "\t\t}],\n",
    "\t\t'bString': [{\n",
    "\t\t\t'tones': ['db2', 'eb2', 'e2']\n",
    "\t\t}, {\n",
    "\t\t\t'tensions': ['R', 'b9', 'b3']\n",
    "\t\t}],\n",
    "\t\t'gString': [{\n",
    "\t\t\t'tones': ['c2', 'db2', 'a1']\n",
    "\t\t}, {\n",
    "\t\t\t'tensions': ['R', 'b9', 'b3']\n",
    "\t\t}],\n",
    "\t\t'dString': [{\n",
    "\t\t\t'tones': ['e1', 'gb1', 'g1']\n",
    "\t\t}, {\n",
    "\t\t\t'tensions': ['R', 'b9', 'b3']\n",
    "\t\t}],\n",
    "\t\t'AString': [{\n",
    "\t\t\t'tones': ['c1', 'db1', 'eb1']\n",
    "\t\t}, {\n",
    "\t\t\t'tensions': ['R', 'b9', 'b3']\n",
    "\t\t}],\n",
    "\t\t'ELowString': [{\n",
    "\t\t\t'tones': ['gb0', 'g0', 'a0']\n",
    "\t\t}, {\n",
    "\t\t\t'tensions': ['R', 'b9', 'b3']\n",
    "\t\t}]\n",
    "\t}\n",
    "}"
   ]
  },
  {
   "cell_type": "code",
   "execution_count": 5,
   "metadata": {},
   "outputs": [
    {
     "data": {
      "text/plain": [
       "dict_values([{'eString': [{'tones': ['gb2', 'g2', 'a2']}, {'tensions': ['R', 'b9', 'b3']}], 'bString': [{'tones': ['db2', 'eb2', 'e2']}, {'tensions': ['R', 'b9', 'b3']}], 'gString': [{'tones': ['c2', 'db2', 'a1']}, {'tensions': ['R', 'b9', 'b3']}], 'dString': [{'tones': ['e1', 'gb1', 'g1']}, {'tensions': ['R', 'b9', 'b3']}], 'AString': [{'tones': ['c1', 'db1', 'eb1']}, {'tensions': ['R', 'b9', 'b3']}], 'ELowString': [{'tones': ['gb0', 'g0', 'a0']}, {'tensions': ['R', 'b9', 'b3']}]}])"
      ]
     },
     "execution_count": 5,
     "metadata": {},
     "output_type": "execute_result"
    }
   ],
   "source": [
    "pos.values()\n",
    "#Check if double value exist"
   ]
  },
  {
   "cell_type": "code",
   "execution_count": null,
   "metadata": {},
   "outputs": [],
   "source": []
  }
 ],
 "metadata": {
  "kernelspec": {
   "display_name": "Python 3",
   "language": "python",
   "name": "python3"
  },
  "language_info": {
   "codemirror_mode": {
    "name": "ipython",
    "version": 3
   },
   "file_extension": ".py",
   "mimetype": "text/x-python",
   "name": "python",
   "nbconvert_exporter": "python",
   "pygments_lexer": "ipython3",
   "version": "3.7.4"
  }
 },
 "nbformat": 4,
 "nbformat_minor": 2
}
