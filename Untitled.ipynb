{
 "cells": [
  {
   "cell_type": "code",
   "execution_count": 1,
   "metadata": {},
   "outputs": [],
   "source": [
    "content = '<p>Emma (Gitarre) und Selma (Querfl&ouml;te) Hann spielen&nbsp;&bdquo;Originalt&auml;nze f&uuml;r Fl&ouml;te und Gitarre&quot; von Franz Schubert:&nbsp;</p>\\r\\n\\r\\n<p><a href=\"https://www.youtube.com/watch?v=Egt9Mpiz4mU\">https://www.youtube.com/watch?v=Egt9Mpiz4mU</a>  <a href=\"https://www.youtube.com/watch?v=Egt9Mpiz4mU\">https://www.youtube.com/watch?v=Egt9Mpiz4mU</a></p>\\r\\n'"
   ]
  },
  {
   "cell_type": "code",
   "execution_count": 24,
   "metadata": {},
   "outputs": [],
   "source": [
    "from urllib.parse import urlparse\n",
    "\n",
    "def delete_youtube_from_content(content):\n",
    "    if content.find('>https://www.youtube'):\n",
    "        first_position = content.find('>https://www.youtube') + 1\n",
    "        last_position = content.find('</a>')\n",
    "        content = content[:first_position] + content[last_position:] \n",
    "        return content\n",
    "    else:\n",
    "        return False\n",
    "\n",
    "def check_youtube_link(content):\n",
    "    if content.find('>https://www.youtube'):\n",
    "        first_position = content.find('>https://www.youtube') + 1\n",
    "        last_position = content.find('</a>')\n",
    "        url = content[first_position:last_position]\n",
    "        return url\n",
    "    else:\n",
    "        return False"
   ]
  },
  {
   "cell_type": "code",
   "execution_count": 26,
   "metadata": {},
   "outputs": [
    {
     "data": {
      "text/plain": [
       "'<p>Emma (Gitarre) und Selma (Querfl&ouml;te) Hann spielen&nbsp;&bdquo;Originalt&auml;nze f&uuml;r Fl&ouml;te und Gitarre&quot; von Franz Schubert:&nbsp;</p>\\r\\n\\r\\n<p><a href=\"https://www.youtube.com/watch?v=Egt9Mpiz4mU\"></a>  <a href=\"https://www.youtube.com/watch?v=Egt9Mpiz4mU\">https://www.youtube.com/watch?v=Egt9Mpiz4mU</a></p>\\r\\n'"
      ]
     },
     "execution_count": 26,
     "metadata": {},
     "output_type": "execute_result"
    }
   ],
   "source": [
    "delete_youtube_from_content(content)"
   ]
  },
  {
   "cell_type": "code",
   "execution_count": 28,
   "metadata": {},
   "outputs": [
    {
     "data": {
      "text/plain": [
       "'<p>ma (Gitarre) und Selma (Querfl&ouml;te) Hann spielen&nbsp;&bdquo;Originalt&auml;nze f&uuml;r Fl&ouml;te und Gitarre&quot; von Franz Schubert:&nbsp;</p>\\r\\n\\r\\n<p><a href=\"https://www.youtube.com/watch?v=Egt9Mpiz4mU\">https://www.youtube.com/watch?v=Egt9Mpiz4mU</a>  <a href=\"https://www.youtube.com/watch?v=Egt9Mpiz4mU\">https://www.youtube.com/watch?v=Egt9Mpiz4mU</a></p>\\r\\n'"
      ]
     },
     "execution_count": 28,
     "metadata": {},
     "output_type": "execute_result"
    }
   ],
   "source": [
    "content[:3] + content[5:] "
   ]
  },
  {
   "cell_type": "code",
   "execution_count": null,
   "metadata": {},
   "outputs": [],
   "source": []
  },
  {
   "cell_type": "code",
   "execution_count": null,
   "metadata": {},
   "outputs": [],
   "source": []
  },
  {
   "cell_type": "code",
   "execution_count": null,
   "metadata": {},
   "outputs": [],
   "source": []
  }
 ],
 "metadata": {
  "kernelspec": {
   "display_name": "Python 3",
   "language": "python",
   "name": "python3"
  },
  "language_info": {
   "codemirror_mode": {
    "name": "ipython",
    "version": 3
   },
   "file_extension": ".py",
   "mimetype": "text/x-python",
   "name": "python",
   "nbconvert_exporter": "python",
   "pygments_lexer": "ipython3",
   "version": "3.7.4"
  }
 },
 "nbformat": 4,
 "nbformat_minor": 2
}
