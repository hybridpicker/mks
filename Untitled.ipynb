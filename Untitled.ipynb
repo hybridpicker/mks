{
 "cells": [
  {
   "cell_type": "code",
   "execution_count": 12,
   "metadata": {},
   "outputs": [],
   "source": [
    "content = '<p>Emma (Gitarre) und Selma (Querfl&ouml;te) Hann spielen&nbsp;&bdquo;Originalt&auml;nze f&uuml;r Fl&ouml;te und Gitarre&quot; von Franz Schubert:&nbsp;</p>\\r\\n\\r\\n<p><a href=\"https://www.youtube.com/watch?v=Egt9Mpiz4mU\">https://www.youtube.com/watch?v=Egt9Mpiz4mU</a>  <a href=\"https://www.youtube.com/watch?v=Egt9Mpiz4mU\">https://www.youtube.com/watch?v=Egt9Mpiz4mU</a></p>\\r\\n'"
   ]
  },
  {
   "cell_type": "code",
   "execution_count": 13,
   "metadata": {},
   "outputs": [],
   "source": [
    "from urllib.parse import urlparse\n",
    "\n",
    "def check_youtube_link(content):\n",
    "    if content.find('>https://www.youtube'):\n",
    "        first_position = content.find('>https://www.youtube') + 1\n",
    "        last_postion = content.find('</a>')\n",
    "        url = content[first_position:last_postion]\n",
    "        return url\n",
    "    else:\n",
    "        return False"
   ]
  },
  {
   "cell_type": "code",
   "execution_count": 14,
   "metadata": {},
   "outputs": [
    {
     "data": {
      "text/plain": [
       "'https://www.youtube.com/watch?v=Egt9Mpiz4mU'"
      ]
     },
     "execution_count": 14,
     "metadata": {},
     "output_type": "execute_result"
    }
   ],
   "source": [
    "check_youtube_link(content)"
   ]
  },
  {
   "cell_type": "code",
   "execution_count": 15,
   "metadata": {},
   "outputs": [
    {
     "data": {
      "text/plain": [
       "True"
      ]
     },
     "execution_count": 15,
     "metadata": {},
     "output_type": "execute_result"
    }
   ],
   "source": [
    "'youtube' in content"
   ]
  },
  {
   "cell_type": "code",
   "execution_count": 20,
   "metadata": {},
   "outputs": [],
   "source": [
    "import re \n",
    "\n",
    "res = len(re.findall('>https://www.youtube', content)) \n"
   ]
  },
  {
   "cell_type": "code",
   "execution_count": 21,
   "metadata": {},
   "outputs": [
    {
     "data": {
      "text/plain": [
       "2"
      ]
     },
     "execution_count": 21,
     "metadata": {},
     "output_type": "execute_result"
    }
   ],
   "source": [
    "res"
   ]
  },
  {
   "cell_type": "code",
   "execution_count": null,
   "metadata": {},
   "outputs": [],
   "source": []
  }
 ],
 "metadata": {
  "kernelspec": {
   "display_name": "Python 3",
   "language": "python",
   "name": "python3"
  },
  "language_info": {
   "codemirror_mode": {
    "name": "ipython",
    "version": 3
   },
   "file_extension": ".py",
   "mimetype": "text/x-python",
   "name": "python",
   "nbconvert_exporter": "python",
   "pygments_lexer": "ipython3",
   "version": "3.7.4"
  }
 },
 "nbformat": 4,
 "nbformat_minor": 2
}
