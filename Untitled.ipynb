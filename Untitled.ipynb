{
 "cells": [
  {
   "cell_type": "code",
   "execution_count": 1,
   "metadata": {},
   "outputs": [],
   "source": [
    "from teaching.models import Teacher\n",
    "from teaching.subject import SubjectCategory, Subject\n",
    "\n",
    "def get_teachers_from_category(category_name):\n",
    "    i = 1\n",
    "    for x in SubjectCategory.objects.get(name=category_name).subject_set.all():\n",
    "        ''''\n",
    "        y = new query set\n",
    "        '''\n",
    "        z = x.teacher_set.all()\n",
    "        print(z)\n",
    "        if i > 1:\n",
    "            y = y | z\n",
    "        else:\n",
    "            y = z\n",
    "        i += 1\n",
    "    return y.distinct()"
   ]
  },
  {
   "cell_type": "code",
   "execution_count": 2,
   "metadata": {},
   "outputs": [
    {
     "name": "stdout",
     "output_type": "stream",
     "text": [
      "<QuerySet [<Teacher: Volker Kagerer>]>\n",
      "<QuerySet [<Teacher: Volker Kagerer>, <Teacher: Dieter Libuda>, <Teacher: Charly Moser>, <Teacher: Andreas Prirschl>, <Teacher: Lukas Schönsgibl>]>\n",
      "<QuerySet [<Teacher: Franz Helfersdorfer>, <Teacher: Volker Kagerer>, <Teacher: Charly Moser>, <Teacher: Andreas Prirschl>, <Teacher: Andreas Rauscher>, <Teacher: Lukas Schönsgibl>, <Teacher: Daniel Thürauer>, <Teacher: Eva Maria Walter>, <Teacher: Ursula Wilhelmer>]>\n",
      "<QuerySet [<Teacher: Angelika Derkits>]>\n",
      "<QuerySet [<Teacher: Silvia Radobersky>]>\n",
      "<QuerySet [<Teacher: Volker Kagerer>]>\n",
      "<QuerySet [<Teacher: Angelika Derkits>]>\n"
     ]
    },
    {
     "data": {
      "text/plain": [
       "<QuerySet [<Teacher: Angelika Derkits>, <Teacher: Franz Helfersdorfer>, <Teacher: Volker Kagerer>, <Teacher: Dieter Libuda>, <Teacher: Charly Moser>, <Teacher: Andreas Prirschl>, <Teacher: Silvia Radobersky>, <Teacher: Andreas Rauscher>, <Teacher: Lukas Schönsgibl>, <Teacher: Daniel Thürauer>, <Teacher: Eva Maria Walter>, <Teacher: Ursula Wilhelmer>]>"
      ]
     },
     "execution_count": 2,
     "metadata": {},
     "output_type": "execute_result"
    }
   ],
   "source": [
    "get_teachers_from_category(\"Zupfinstrumente\")"
   ]
  },
  {
   "cell_type": "code",
   "execution_count": 4,
   "metadata": {},
   "outputs": [],
   "source": [
    "volker = Teacher.objects.get(first_name=\"Volker\")"
   ]
  },
  {
   "cell_type": "code",
   "execution_count": 10,
   "metadata": {},
   "outputs": [
    {
     "data": {
      "text/plain": [
       "<QuerySet [<Subject: E-Bass>, <Subject: E-Gitarre>, <Subject: Gitarre>, <Subject: Kontrabass>]>"
      ]
     },
     "execution_count": 10,
     "metadata": {},
     "output_type": "execute_result"
    }
   ],
   "source": [
    "volker.subject.all()"
   ]
  },
  {
   "cell_type": "code",
   "execution_count": null,
   "metadata": {},
   "outputs": [],
   "source": []
  }
 ],
 "metadata": {
  "kernelspec": {
   "display_name": "Django Shell-Plus",
   "language": "python",
   "name": "django_extensions"
  },
  "language_info": {
   "codemirror_mode": {
    "name": "ipython",
    "version": 3
   },
   "file_extension": ".py",
   "mimetype": "text/x-python",
   "name": "python",
   "nbconvert_exporter": "python",
   "pygments_lexer": "ipython3",
   "version": "3.7.4"
  }
 },
 "nbformat": 4,
 "nbformat_minor": 2
}
