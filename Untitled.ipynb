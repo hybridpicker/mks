{
 "cells": [
  {
   "cell_type": "code",
   "execution_count": 2,
   "metadata": {},
   "outputs": [],
   "source": [
    "from teaching.subject import SubjectCategory, Subject\n",
    "from teaching.models import Teacher\n"
   ]
  },
  {
   "cell_type": "code",
   "execution_count": 22,
   "metadata": {},
   "outputs": [
    {
     "name": "stdout",
     "output_type": "stream",
     "text": [
      "Zupfinstrumente\n",
      "['Franz Helfersdorfer']\n",
      "Tasteninstrumente\n",
      "['Augustinus Brunner']\n",
      "Holzblasinstrumente\n",
      "['Robert Brunnlechner']\n",
      "Gesang\n",
      "['Sophie Geymüller']\n",
      "Schlagwerk\n",
      "['Vladimir Kostadinovic']\n"
     ]
    }
   ],
   "source": [
    "categories = SubjectCategory.objects.all()\n",
    "\n",
    "for category in categories:\n",
    "    print(category)\n",
    "    subjects = Subject.objects.all().filter(category=category)\n",
    "    for subject in subjects:\n",
    "        teacher_dir = []\n",
    "        teachers = Teacher.objects.all().filter(subject_id=subject.id)\n",
    "        for teacher in teachers:\n",
    "            teacher_name = teacher.first_name + ' ' + teacher.last_name\n",
    "            teacher_dir.append(teacher_name)\n",
    "            print(teacher_dir)"
   ]
  },
  {
   "cell_type": "code",
   "execution_count": 23,
   "metadata": {},
   "outputs": [],
   "source": [
    "result = {\n",
    "\t\"Zupfinstrumente\": {\n",
    "\t\t\"Franz Helfersdorfer\": {\n",
    "\t\t\t\"Instruments\": [\"Gitarre\", \"Gitarrenorchester\"],\n",
    "\t\t\t\"Homepage\": \"http://klangboquet.com\",\n",
    "\t\t\t\"image\": \"/media/teachers/franz.jpg\",\n",
    "\t\t\t\"Email\": \"info@klangboquet.com\"\n",
    "\t\t},\n",
    "\t\t\"Andreas Rauscher\": {\n",
    "\t\t\t\"Instruments\": [\"Gitarre\", \"Klarinette\"],\n",
    "\t\t\t\"Email\": \"info@klangboquet.com\"\n",
    "\t\t}\n",
    "\t},\n",
    "\t\"Streichinstrumente\": {\n",
    "\t\t\"Franz Helfersdorf\": \"Gitarre\",\n",
    "\t\t\"element 2\": \"value 2\"\n",
    "\t}\n",
    "}"
   ]
  },
  {
   "cell_type": "code",
   "execution_count": null,
   "metadata": {},
   "outputs": [],
   "source": []
  }
 ],
 "metadata": {
  "kernelspec": {
   "display_name": "Django Shell-Plus",
   "language": "python",
   "name": "django_extensions"
  },
  "language_info": {
   "codemirror_mode": {
    "name": "ipython",
    "version": 3
   },
   "file_extension": ".py",
   "mimetype": "text/x-python",
   "name": "python",
   "nbconvert_exporter": "python",
   "pygments_lexer": "ipython3",
   "version": "3.7.4"
  }
 },
 "nbformat": 4,
 "nbformat_minor": 2
}
