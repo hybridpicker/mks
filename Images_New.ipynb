{
 "cells": [
  {
   "cell_type": "code",
   "execution_count": 1,
   "metadata": {},
   "outputs": [],
   "source": [
    "result = {\n",
    "\t\"1\": {\n",
    "\t\t\"title\": \"image_title\",\n",
    "\t\t\"description\": \"Emma und Hannah sind im Wasser\",\n",
    "\t\t\"image\": \"/static/media/fullimage.jpg\"\n",
    "\t},\n",
    "\t\"2\": {\n",
    "\t\t\"title\": \"image_title\",\n",
    "\t\t\"description\": \"Emma und Hannah sind im Wasser\",\n",
    "\t\t\"image\": \"/static/media/fullimage.jpg\"\n",
    "\t},\n",
    "\t\"3\": {\n",
    "\t\t\"title\": \"image_title\",\n",
    "\t\t\"description\": \"Emma und Hannah sind im Wasser\",\n",
    "\t\t\"image\": \"/static/media/fullimage.jpg\"\n",
    "\t}\n",
    "}"
   ]
  },
  {
   "cell_type": "code",
   "execution_count": 3,
   "metadata": {},
   "outputs": [],
   "source": [
    "from gallery.models import Photo, PhotoCategory\n",
    "\n",
    "photos = Photo.objects.filter(category_id=1)\n",
    "\n"
   ]
  },
  {
   "cell_type": "code",
   "execution_count": 15,
   "metadata": {},
   "outputs": [],
   "source": [
    "result = {}\n",
    "for photo in photos:\n",
    "    photo_dict = {}\n",
    "    photo_dict[\"title\"] = photo.title\n",
    "    photo_dict[\"description\"] = photo.description\n",
    "    photo_dict[\"image\"] = photo.image.url\n",
    "    result[photo.id] = photo_dict"
   ]
  },
  {
   "cell_type": "code",
   "execution_count": 16,
   "metadata": {},
   "outputs": [
    {
     "name": "stdout",
     "output_type": "stream",
     "text": [
      "{53: {'title': 'M11_8732.jpg', 'description': 'Selma und Emma Hann bereiten sich auf ihren Vortrag am 3. Adventsonntag in der Lourdeskirche vor.', 'image': '/media/gallery/images/M11_8732.jpg'}, 52: {'title': 'M11_8729.jpg', 'description': None, 'image': '/media/gallery/images/M11_8729.jpg'}, 51: {'title': 'M11_8727.jpg', 'description': None, 'image': '/media/gallery/images/M11_8727.jpg'}, 50: {'title': 'M11_8703.jpg', 'description': None, 'image': '/media/gallery/images/M11_8703.jpg'}, 49: {'title': 'M11_8697.jpg', 'description': None, 'image': '/media/gallery/images/M11_8697.jpg'}, 48: {'title': 'M11_8685.jpg', 'description': None, 'image': '/media/gallery/images/M11_8685.jpg'}, 47: {'title': 'M11_8684.jpg', 'description': None, 'image': '/media/gallery/images/M11_8684.jpg'}, 46: {'title': 'M11_8672.jpg', 'description': None, 'image': '/media/gallery/images/M11_8672.jpg'}, 45: {'title': 'M11_8662.jpg', 'description': None, 'image': '/media/gallery/images/M11_8662.jpg'}, 31: {'title': 'jubilaeum_06', 'description': '', 'image': '/media/gallery/images/50752f5e250188c56b720a56c3924a22_w1280_h853.jpg'}, 26: {'title': 'jubilaeum_01', 'description': '', 'image': '/media/gallery/images/6f252f5e614f0c47b533df5e6b318d26_w1280_h853.jpg'}, 27: {'title': 'jubilaeum_02', 'description': '', 'image': '/media/gallery/images/08b3889dcd262107fcdd2556a7fbc168_w1280_h853.jpg'}, 28: {'title': 'jubilaeum_03', 'description': '', 'image': '/media/gallery/images/15b9c6c97c5dd73e6a3d76220d06fd65_w1280_h853.jpg'}, 29: {'title': 'jubilaeum_04', 'description': '', 'image': '/media/gallery/images/58f820b95b149b4309abb97c650c9f1c_w1280_h853.jpg'}, 30: {'title': 'jubilaeum_05', 'description': '', 'image': '/media/gallery/images/0312dfc12052f2847cc19e1edc077daf_w1280_h853.jpg'}, 32: {'title': 'jubilaeum_07', 'description': '', 'image': '/media/gallery/images/b93016f8a1d58b84a6f7f2ac53537ad0_w1280_h853.jpg'}, 33: {'title': 'jubilaeum_08', 'description': '', 'image': '/media/gallery/images/ea9c46e5418f0cd285f615bddc32f4d9_w1280_h853.jpg'}, 7: {'title': 'band_frueFhwald-jungblut_2015.jpg', 'description': '', 'image': '/media/gallery/images/band_frueFhwald-jungblut_2015.jpg'}, 8: {'title': 'band_tan-yeah_2011.jpg', 'description': '', 'image': '/media/gallery/images/band_tan-yeah_2011.jpg'}, 5: {'title': 'band_PPFF_2007.jpg', 'description': '', 'image': '/media/gallery/images/band_PPFF_2007.jpg'}, 2: {'title': '8piece.jpg', 'description': '', 'image': '/media/gallery/images/8piece.jpg'}, 4: {'title': 'albert-klasse_2010.jpg', 'description': '', 'image': '/media/gallery/images/albert-klasse_2010.jpg'}, 1: {'title': '180slide1.jpg', 'description': '', 'image': '/media/gallery/images/180slide1.jpg'}, 10: {'title': 'noen16_mayer.jpg', 'description': '', 'image': '/media/gallery/images/noen16_mayer.jpg'}}\n"
     ]
    }
   ],
   "source": [
    "print(result)"
   ]
  },
  {
   "cell_type": "code",
   "execution_count": null,
   "metadata": {},
   "outputs": [],
   "source": []
  }
 ],
 "metadata": {
  "kernelspec": {
   "display_name": "Django Shell-Plus",
   "language": "python",
   "name": "django_extensions"
  },
  "language_info": {
   "codemirror_mode": {
    "name": "ipython",
    "version": 3
   },
   "file_extension": ".py",
   "mimetype": "text/x-python",
   "name": "python",
   "nbconvert_exporter": "python",
   "pygments_lexer": "ipython3",
   "version": "3.7.4"
  }
 },
 "nbformat": 4,
 "nbformat_minor": 2
}
