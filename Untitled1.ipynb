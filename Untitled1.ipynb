{
 "cells": [
  {
   "cell_type": "code",
   "execution_count": 1,
   "metadata": {},
   "outputs": [],
   "source": [
    "from teaching.subject import SubjectCategory\n"
   ]
  },
  {
   "cell_type": "code",
   "execution_count": 4,
   "metadata": {},
   "outputs": [
    {
     "name": "stdout",
     "output_type": "stream",
     "text": [
      "<QuerySet [<Teacher: Franz Helfersdorfer>]>\n"
     ]
    }
   ],
   "source": [
    "teacher_set = SubjectCategory.objects.get(id=1).subject_set.all().first().teacher_set.all()\n",
    "print(teacher_set)"
   ]
  },
  {
   "cell_type": "code",
   "execution_count": 13,
   "metadata": {},
   "outputs": [
    {
     "name": "stdout",
     "output_type": "stream",
     "text": [
      "Franz Helfersdorfer\n",
      "<QuerySet [<Teacher: Franz Helfersdorfer>]>\n",
      "Augustinus Brunner\n",
      "<QuerySet [<Teacher: Augustinus Brunner>]>\n",
      "Robert Brunnlechner\n",
      "<QuerySet [<Teacher: Robert Brunnlechner>]>\n",
      "Sophie Geymüller\n",
      "<QuerySet [<Teacher: Sophie Geymüller>]>\n",
      "Vladimir Kostadinovic\n",
      "<QuerySet [<Teacher: Vladimir Kostadinovic>]>\n"
     ]
    }
   ],
   "source": [
    "x = 1\n",
    "for x in SubjectCategory.objects.all():\n",
    "    for y in x.subject_set.all().first().teacher_set.all():\n",
    "        print(y)\n",
    "    print(x.subject_set.all().first().teacher_set.all())"
   ]
  },
  {
   "cell_type": "code",
   "execution_count": 6,
   "metadata": {},
   "outputs": [
    {
     "ename": "NameError",
     "evalue": "name 'SubjectCageory' is not defined",
     "output_type": "error",
     "traceback": [
      "\u001b[0;31m---------------------------------------------------------------------------\u001b[0m",
      "\u001b[0;31mNameError\u001b[0m                                 Traceback (most recent call last)",
      "\u001b[0;32m<ipython-input-6-5d9dbbe56f52>\u001b[0m in \u001b[0;36m<module>\u001b[0;34m\u001b[0m\n\u001b[0;32m----> 1\u001b[0;31m \u001b[0mprint\u001b[0m\u001b[0;34m(\u001b[0m\u001b[0mSubjectCageory\u001b[0m\u001b[0;34m.\u001b[0m\u001b[0mobjects\u001b[0m\u001b[0;34m.\u001b[0m\u001b[0mall\u001b[0m\u001b[0;34m(\u001b[0m\u001b[0;34m)\u001b[0m\u001b[0;34m)\u001b[0m\u001b[0;34m\u001b[0m\u001b[0;34m\u001b[0m\u001b[0m\n\u001b[0m",
      "\u001b[0;31mNameError\u001b[0m: name 'SubjectCageory' is not defined"
     ]
    }
   ],
   "source": [
    "print(SubjectCageory.objects.all())"
   ]
  },
  {
   "cell_type": "code",
   "execution_count": null,
   "metadata": {},
   "outputs": [],
   "source": []
  }
 ],
 "metadata": {
  "kernelspec": {
   "display_name": "Django Shell-Plus",
   "language": "python",
   "name": "django_extensions"
  },
  "language_info": {
   "codemirror_mode": {
    "name": "ipython",
    "version": 3
   },
   "file_extension": ".py",
   "mimetype": "text/x-python",
   "name": "python",
   "nbconvert_exporter": "python",
   "pygments_lexer": "ipython3",
   "version": "3.7.4"
  }
 },
 "nbformat": 4,
 "nbformat_minor": 2
}
